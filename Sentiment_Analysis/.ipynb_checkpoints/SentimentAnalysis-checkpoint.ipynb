{
 "cells": [
  {
   "cell_type": "code",
   "execution_count": 7,
   "id": "938ab430-7ca6-4d92-bd39-56f290800149",
   "metadata": {},
   "outputs": [],
   "source": [
    "import pandas as pd\n",
    "import numpy as np\n",
    "import matplotlib.pyplot as plt"
   ]
  },
  {
   "cell_type": "code",
   "execution_count": 2,
   "id": "b7376c7b-20fa-43e5-84c2-f58498d1ce9f",
   "metadata": {},
   "outputs": [
    {
     "name": "stdout",
     "output_type": "stream",
     "text": [
      "(1077, 1)\n"
     ]
    },
    {
     "data": {
      "text/html": [
       "<div>\n",
       "<style scoped>\n",
       "    .dataframe tbody tr th:only-of-type {\n",
       "        vertical-align: middle;\n",
       "    }\n",
       "\n",
       "    .dataframe tbody tr th {\n",
       "        vertical-align: top;\n",
       "    }\n",
       "\n",
       "    .dataframe thead th {\n",
       "        text-align: right;\n",
       "    }\n",
       "</style>\n",
       "<table border=\"1\" class=\"dataframe\">\n",
       "  <thead>\n",
       "    <tr style=\"text-align: right;\">\n",
       "      <th></th>\n",
       "      <th>Tweets</th>\n",
       "    </tr>\n",
       "  </thead>\n",
       "  <tbody>\n",
       "    <tr>\n",
       "      <th>0</th>\n",
       "      <td>Hackers galore Also being sued for passed deb...</td>\n",
       "    </tr>\n",
       "    <tr>\n",
       "      <th>1</th>\n",
       "      <td>Hackers galore Also being sued for passed deb...</td>\n",
       "    </tr>\n",
       "    <tr>\n",
       "      <th>2</th>\n",
       "      <td>London England UK  Come rock with ya girl Fri...</td>\n",
       "    </tr>\n",
       "    <tr>\n",
       "      <th>3</th>\n",
       "      <td>NewsAlert  BengaluruVijaywada Indigo flight 6E...</td>\n",
       "    </tr>\n",
       "    <tr>\n",
       "      <th>4</th>\n",
       "      <td>Hackers galore Also being sued for passed debt...</td>\n",
       "    </tr>\n",
       "    <tr>\n",
       "      <th>5</th>\n",
       "      <td>Just Because You Are available at  denim tiedy...</td>\n",
       "    </tr>\n",
       "    <tr>\n",
       "      <th>6</th>\n",
       "      <td>Why do you start boarding when your aircraft i...</td>\n",
       "    </tr>\n",
       "    <tr>\n",
       "      <th>7</th>\n",
       "      <td>BengaluruVijaywada Indigo flight 6E7204 skids ...</td>\n",
       "    </tr>\n",
       "    <tr>\n",
       "      <th>8</th>\n",
       "      <td>I love you indigo jael maybe we can make i so...</td>\n",
       "    </tr>\n",
       "    <tr>\n",
       "      <th>9</th>\n",
       "      <td>IndigoampSpiceJet Extend to T2</td>\n",
       "    </tr>\n",
       "  </tbody>\n",
       "</table>\n",
       "</div>"
      ],
      "text/plain": [
       "                                              Tweets\n",
       "0   Hackers galore Also being sued for passed deb...\n",
       "1   Hackers galore Also being sued for passed deb...\n",
       "2   London England UK  Come rock with ya girl Fri...\n",
       "3  NewsAlert  BengaluruVijaywada Indigo flight 6E...\n",
       "4  Hackers galore Also being sued for passed debt...\n",
       "5  Just Because You Are available at  denim tiedy...\n",
       "6  Why do you start boarding when your aircraft i...\n",
       "7  BengaluruVijaywada Indigo flight 6E7204 skids ...\n",
       "8   I love you indigo jael maybe we can make i so...\n",
       "9                    IndigoampSpiceJet Extend to T2 "
      ]
     },
     "execution_count": 2,
     "metadata": {},
     "output_type": "execute_result"
    }
   ],
   "source": [
    "tweets = pd.read_csv('data/Tweets.csv', encoding='latin')\n",
    "print(tweets.shape)\n",
    "tweets.head(10)"
   ]
  },
  {
   "cell_type": "code",
   "execution_count": 3,
   "id": "c4e0a5a5-de7c-48fb-9fb2-8c66ab9600fc",
   "metadata": {},
   "outputs": [
    {
     "name": "stderr",
     "output_type": "stream",
     "text": [
      "C:\\Users\\uzair\\AppData\\Roaming\\Python\\Python311\\site-packages\\tqdm\\auto.py:21: TqdmWarning: IProgress not found. Please update jupyter and ipywidgets. See https://ipywidgets.readthedocs.io/en/stable/user_install.html\n",
      "  from .autonotebook import tqdm as notebook_tqdm\n",
      "No model was supplied, defaulted to distilbert-base-uncased-finetuned-sst-2-english and revision af0f99b (https://huggingface.co/distilbert-base-uncased-finetuned-sst-2-english).\n",
      "Using a pipeline without specifying a model name and revision in production is not recommended.\n",
      "Downloading (…)lve/main/config.json: 100%|█████████████████████████████████████████████| 629/629 [00:00<00:00, 678kB/s]\n",
      "Downloading model.safetensors: 100%|████████████████████████████████████████████████| 268M/268M [01:30<00:00, 2.94MB/s]\n",
      "Downloading (…)okenizer_config.json: 100%|██████████████████████████████████████████| 48.0/48.0 [00:00<00:00, 47.2kB/s]\n",
      "Downloading (…)solve/main/vocab.txt: 100%|███████████████████████████████████████████| 232k/232k [00:00<00:00, 545kB/s]\n"
     ]
    }
   ],
   "source": [
    "# importing the pipeline module\n",
    "from transformers import pipeline\n",
    " \n",
    "# Downloading the sentiment analysis model\n",
    "SentimentClassifier = pipeline(\"sentiment-analysis\")"
   ]
  },
  {
   "cell_type": "code",
   "execution_count": 4,
   "id": "e119e99f-bf8e-4558-801e-74236c87eb60",
   "metadata": {},
   "outputs": [
    {
     "data": {
      "text/plain": [
       "[{'label': 'NEGATIVE', 'score': 0.9997034668922424},\n",
       " {'label': 'POSITIVE', 'score': 0.9998235106468201},\n",
       " {'label': 'NEGATIVE', 'score': 0.9944382905960083}]"
      ]
     },
     "execution_count": 4,
     "metadata": {},
     "output_type": "execute_result"
    }
   ],
   "source": [
    "# Calling the sentiment analysis function for 3 sentences\n",
    "SentimentClassifier([\"I hope we get all these concepts! Its killing the neurons of our brain\",\n",
    "                     \"We had a nice experience in this trip\",\n",
    "                     \"Houston we have a problem\"\n",
    "                      ])"
   ]
  },
  {
   "cell_type": "code",
   "execution_count": 5,
   "id": "9cd26d6d-ed11-4b2d-84c1-6dddd400b789",
   "metadata": {},
   "outputs": [
    {
     "data": {
      "text/plain": [
       "'NEGATIVE'"
      ]
     },
     "execution_count": 5,
     "metadata": {},
     "output_type": "execute_result"
    }
   ],
   "source": [
    "# Defining a function to call for the whole dataframe\n",
    "def FunctionBERTSentiment(inpText):\n",
    "  return(SentimentClassifier(inpText)[0]['label'])\n",
    " \n",
    "# Calling the function\n",
    "FunctionBERTSentiment(inpText=\"Houston we have a problem\")"
   ]
  },
  {
   "cell_type": "code",
   "execution_count": 6,
   "id": "82aa779c-dc73-4c63-9666-641104225cf3",
   "metadata": {},
   "outputs": [
    {
     "data": {
      "text/html": [
       "<div>\n",
       "<style scoped>\n",
       "    .dataframe tbody tr th:only-of-type {\n",
       "        vertical-align: middle;\n",
       "    }\n",
       "\n",
       "    .dataframe tbody tr th {\n",
       "        vertical-align: top;\n",
       "    }\n",
       "\n",
       "    .dataframe thead th {\n",
       "        text-align: right;\n",
       "    }\n",
       "</style>\n",
       "<table border=\"1\" class=\"dataframe\">\n",
       "  <thead>\n",
       "    <tr style=\"text-align: right;\">\n",
       "      <th></th>\n",
       "      <th>Tweets</th>\n",
       "      <th>Sentiment</th>\n",
       "    </tr>\n",
       "  </thead>\n",
       "  <tbody>\n",
       "    <tr>\n",
       "      <th>0</th>\n",
       "      <td>Hackers galore Also being sued for passed deb...</td>\n",
       "      <td>NEGATIVE</td>\n",
       "    </tr>\n",
       "    <tr>\n",
       "      <th>1</th>\n",
       "      <td>Hackers galore Also being sued for passed deb...</td>\n",
       "      <td>NEGATIVE</td>\n",
       "    </tr>\n",
       "    <tr>\n",
       "      <th>2</th>\n",
       "      <td>London England UK  Come rock with ya girl Fri...</td>\n",
       "      <td>POSITIVE</td>\n",
       "    </tr>\n",
       "    <tr>\n",
       "      <th>3</th>\n",
       "      <td>NewsAlert  BengaluruVijaywada Indigo flight 6E...</td>\n",
       "      <td>NEGATIVE</td>\n",
       "    </tr>\n",
       "    <tr>\n",
       "      <th>4</th>\n",
       "      <td>Hackers galore Also being sued for passed debt...</td>\n",
       "      <td>NEGATIVE</td>\n",
       "    </tr>\n",
       "    <tr>\n",
       "      <th>5</th>\n",
       "      <td>Just Because You Are available at  denim tiedy...</td>\n",
       "      <td>NEGATIVE</td>\n",
       "    </tr>\n",
       "    <tr>\n",
       "      <th>6</th>\n",
       "      <td>Why do you start boarding when your aircraft i...</td>\n",
       "      <td>NEGATIVE</td>\n",
       "    </tr>\n",
       "    <tr>\n",
       "      <th>7</th>\n",
       "      <td>BengaluruVijaywada Indigo flight 6E7204 skids ...</td>\n",
       "      <td>NEGATIVE</td>\n",
       "    </tr>\n",
       "    <tr>\n",
       "      <th>8</th>\n",
       "      <td>I love you indigo jael maybe we can make i so...</td>\n",
       "      <td>POSITIVE</td>\n",
       "    </tr>\n",
       "    <tr>\n",
       "      <th>9</th>\n",
       "      <td>IndigoampSpiceJet Extend to T2</td>\n",
       "      <td>NEGATIVE</td>\n",
       "    </tr>\n",
       "  </tbody>\n",
       "</table>\n",
       "</div>"
      ],
      "text/plain": [
       "                                              Tweets Sentiment\n",
       "0   Hackers galore Also being sued for passed deb...  NEGATIVE\n",
       "1   Hackers galore Also being sued for passed deb...  NEGATIVE\n",
       "2   London England UK  Come rock with ya girl Fri...  POSITIVE\n",
       "3  NewsAlert  BengaluruVijaywada Indigo flight 6E...  NEGATIVE\n",
       "4  Hackers galore Also being sued for passed debt...  NEGATIVE\n",
       "5  Just Because You Are available at  denim tiedy...  NEGATIVE\n",
       "6  Why do you start boarding when your aircraft i...  NEGATIVE\n",
       "7  BengaluruVijaywada Indigo flight 6E7204 skids ...  NEGATIVE\n",
       "8   I love you indigo jael maybe we can make i so...  POSITIVE\n",
       "9                    IndigoampSpiceJet Extend to T2   NEGATIVE"
      ]
     },
     "execution_count": 6,
     "metadata": {},
     "output_type": "execute_result"
    }
   ],
   "source": [
    "# Calling BERT based sentiment score function for every tweet\n",
    "tweets['Sentiment'] = tweets['Tweets'].apply(FunctionBERTSentiment)\n",
    "tweets.head(10)"
   ]
  },
  {
   "cell_type": "code",
   "execution_count": 13,
   "id": "7aa2a7b6-6c4a-4857-8f22-c9445556340e",
   "metadata": {},
   "outputs": [
    {
     "data": {
      "text/plain": [
       "Sentiment\n",
       "NEGATIVE    657\n",
       "POSITIVE    420\n",
       "dtype: int64"
      ]
     },
     "execution_count": 13,
     "metadata": {},
     "output_type": "execute_result"
    }
   ],
   "source": [
    "# Grouping the data\n",
    "GroupedData = tweets.groupby('Sentiment').size()\n",
    "GroupedData"
   ]
  },
  {
   "cell_type": "code",
   "execution_count": 16,
   "id": "9b9404f8-b9c7-4e60-9fce-6f39bebb6343",
   "metadata": {},
   "outputs": [
    {
     "data": {
      "image/png": "[encoded data removed]",
      "text/plain": [
       "<Figure size 1000x400 with 2 Axes>"
      ]
     },
     "metadata": {},
     "output_type": "display_data"
    }
   ],
   "source": [
    "# Visualizing the overall sentiment distribution\n",
    "fig, subPlot = plt.subplots(nrows=1, ncols=2, figsize=(10,4))\n",
    "fig.suptitle(\"Sentiment analysis of Tweets\")\n",
    " \n",
    "# Creating the charts\n",
    "GroupedData.plot(kind='bar', ax=subPlot[0], color=['crimson', 'lightblue'])\n",
    "GroupedData.plot(kind='pie', ax=subPlot[1], colors=['crimson', 'lightblue'])\n",
    "plt.show()"
   ]
  }
 ],
 "metadata": {
  "kernelspec": {
   "display_name": "Python (nlp)",
   "language": "python",
   "name": "nlp"
  },
  "language_info": {
   "codemirror_mode": {
    "name": "ipython",
    "version": 3
   },
   "file_extension": ".py",
   "mimetype": "text/x-python",
   "name": "python",
   "nbconvert_exporter": "python",
   "pygments_lexer": "ipython3",
   "version": "3.11.4"
  }
 },
 "nbformat": 4,
 "nbformat_minor": 5
}
